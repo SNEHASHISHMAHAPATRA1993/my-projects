{
  "nbformat": 4,
  "nbformat_minor": 0,
  "metadata": {
    "colab": {
      "provenance": []
    },
    "kernelspec": {
      "name": "python3",
      "display_name": "Python 3"
    },
    "language_info": {
      "name": "python"
    }
  },
  "cells": [
    {
      "cell_type": "code",
      "execution_count": 100,
      "metadata": {
        "id": "dw8hefoz0TnK"
      },
      "outputs": [],
      "source": [
        "import pandas as pd\n",
        "import numpy as np\n",
        "\n",
        "import seaborn as sns\n",
        "import matplotlib.pyplot as plt\n",
        "import warnings\n",
        "warnings.filterwarnings('ignore')\n"
      ]
    },
    {
      "cell_type": "code",
      "source": [
        "from google.colab import drive\n",
        "drive.mount('/content/gdrive')"
      ],
      "metadata": {
        "colab": {
          "base_uri": "https://localhost:8080/"
        },
        "id": "tsLBxPeN2rCK",
        "outputId": "0438d06c-2878-4fca-d7b6-b7f0a84dfbc1"
      },
      "execution_count": 101,
      "outputs": [
        {
          "output_type": "stream",
          "name": "stdout",
          "text": [
            "Drive already mounted at /content/gdrive; to attempt to forcibly remount, call drive.mount(\"/content/gdrive\", force_remount=True).\n"
          ]
        }
      ]
    },
    {
      "cell_type": "code",
      "source": [
        "import os\n",
        "PATH='/content/gdrive/MyDrive/Flittfy' # This PATH may not work for you , change the path according to your file sysytem\n",
        "os.chdir(PATH)"
      ],
      "metadata": {
        "id": "OGGdnLRd2yDR"
      },
      "execution_count": 102,
      "outputs": []
    },
    {
      "cell_type": "code",
      "source": [
        "!ls"
      ],
      "metadata": {
        "colab": {
          "base_uri": "https://localhost:8080/"
        },
        "id": "GJv4Tw6r4FeC",
        "outputId": "67c46c12-662d-4c68-cc8d-dc5e6be5d1de"
      },
      "execution_count": 103,
      "outputs": [
        {
          "output_type": "stream",
          "name": "stdout",
          "text": [
            " Assignment.docx  'Copy of flittfy1.ipynb'   flittfy1.ipynb\n",
            " assignment.xlsx   data.csv\n"
          ]
        }
      ]
    },
    {
      "cell_type": "code",
      "source": [
        "df = pd.read_excel('assignment.xlsx',na_values=['#','$',' '])"
      ],
      "metadata": {
        "id": "E6f4_P8S4iBQ"
      },
      "execution_count": 104,
      "outputs": []
    },
    {
      "cell_type": "code",
      "source": [
        "df = df.sort_values('Year')"
      ],
      "metadata": {
        "id": "jn2mL-ad4nWw"
      },
      "execution_count": 105,
      "outputs": []
    },
    {
      "cell_type": "code",
      "source": [
        "df.head()"
      ],
      "metadata": {
        "colab": {
          "base_uri": "https://localhost:8080/",
          "height": 206
        },
        "id": "u_UhIjyX7Se7",
        "outputId": "fe1a7a59-1103-44d6-e023-abcabd7e7ff6"
      },
      "execution_count": 106,
      "outputs": [
        {
          "output_type": "execute_result",
          "data": {
            "text/plain": [
              "     Year  Month    Segment     Region           KPI Value Type    Value\n",
              "0    2020     12    Clients      India  Lv1_Visitors    Actuals  3665558\n",
              "776  2020      9  Customers   Dehradun  Lv2_Visitors    Actuals    23693\n",
              "777  2020      9  Customers  Faridabad  Lv2_Visitors    Actuals    23132\n",
              "778  2020      9  Customers   Dehradun  Lv3_Visitors    Actuals    22715\n",
              "779  2020      9  Customers     Ujjain  Lv2_Visitors    Actuals    22036"
            ],
            "text/html": [
              "\n",
              "  <div id=\"df-bcfc452e-914c-4163-8e26-d675a0633490\">\n",
              "    <div class=\"colab-df-container\">\n",
              "      <div>\n",
              "<style scoped>\n",
              "    .dataframe tbody tr th:only-of-type {\n",
              "        vertical-align: middle;\n",
              "    }\n",
              "\n",
              "    .dataframe tbody tr th {\n",
              "        vertical-align: top;\n",
              "    }\n",
              "\n",
              "    .dataframe thead th {\n",
              "        text-align: right;\n",
              "    }\n",
              "</style>\n",
              "<table border=\"1\" class=\"dataframe\">\n",
              "  <thead>\n",
              "    <tr style=\"text-align: right;\">\n",
              "      <th></th>\n",
              "      <th>Year</th>\n",
              "      <th>Month</th>\n",
              "      <th>Segment</th>\n",
              "      <th>Region</th>\n",
              "      <th>KPI</th>\n",
              "      <th>Value Type</th>\n",
              "      <th>Value</th>\n",
              "    </tr>\n",
              "  </thead>\n",
              "  <tbody>\n",
              "    <tr>\n",
              "      <th>0</th>\n",
              "      <td>2020</td>\n",
              "      <td>12</td>\n",
              "      <td>Clients</td>\n",
              "      <td>India</td>\n",
              "      <td>Lv1_Visitors</td>\n",
              "      <td>Actuals</td>\n",
              "      <td>3665558</td>\n",
              "    </tr>\n",
              "    <tr>\n",
              "      <th>776</th>\n",
              "      <td>2020</td>\n",
              "      <td>9</td>\n",
              "      <td>Customers</td>\n",
              "      <td>Dehradun</td>\n",
              "      <td>Lv2_Visitors</td>\n",
              "      <td>Actuals</td>\n",
              "      <td>23693</td>\n",
              "    </tr>\n",
              "    <tr>\n",
              "      <th>777</th>\n",
              "      <td>2020</td>\n",
              "      <td>9</td>\n",
              "      <td>Customers</td>\n",
              "      <td>Faridabad</td>\n",
              "      <td>Lv2_Visitors</td>\n",
              "      <td>Actuals</td>\n",
              "      <td>23132</td>\n",
              "    </tr>\n",
              "    <tr>\n",
              "      <th>778</th>\n",
              "      <td>2020</td>\n",
              "      <td>9</td>\n",
              "      <td>Customers</td>\n",
              "      <td>Dehradun</td>\n",
              "      <td>Lv3_Visitors</td>\n",
              "      <td>Actuals</td>\n",
              "      <td>22715</td>\n",
              "    </tr>\n",
              "    <tr>\n",
              "      <th>779</th>\n",
              "      <td>2020</td>\n",
              "      <td>9</td>\n",
              "      <td>Customers</td>\n",
              "      <td>Ujjain</td>\n",
              "      <td>Lv2_Visitors</td>\n",
              "      <td>Actuals</td>\n",
              "      <td>22036</td>\n",
              "    </tr>\n",
              "  </tbody>\n",
              "</table>\n",
              "</div>\n",
              "      <button class=\"colab-df-convert\" onclick=\"convertToInteractive('df-bcfc452e-914c-4163-8e26-d675a0633490')\"\n",
              "              title=\"Convert this dataframe to an interactive table.\"\n",
              "              style=\"display:none;\">\n",
              "        \n",
              "  <svg xmlns=\"http://www.w3.org/2000/svg\" height=\"24px\"viewBox=\"0 0 24 24\"\n",
              "       width=\"24px\">\n",
              "    <path d=\"M0 0h24v24H0V0z\" fill=\"none\"/>\n",
              "    <path d=\"M18.56 5.44l.94 2.06.94-2.06 2.06-.94-2.06-.94-.94-2.06-.94 2.06-2.06.94zm-11 1L8.5 8.5l.94-2.06 2.06-.94-2.06-.94L8.5 2.5l-.94 2.06-2.06.94zm10 10l.94 2.06.94-2.06 2.06-.94-2.06-.94-.94-2.06-.94 2.06-2.06.94z\"/><path d=\"M17.41 7.96l-1.37-1.37c-.4-.4-.92-.59-1.43-.59-.52 0-1.04.2-1.43.59L10.3 9.45l-7.72 7.72c-.78.78-.78 2.05 0 2.83L4 21.41c.39.39.9.59 1.41.59.51 0 1.02-.2 1.41-.59l7.78-7.78 2.81-2.81c.8-.78.8-2.07 0-2.86zM5.41 20L4 18.59l7.72-7.72 1.47 1.35L5.41 20z\"/>\n",
              "  </svg>\n",
              "      </button>\n",
              "      \n",
              "  <style>\n",
              "    .colab-df-container {\n",
              "      display:flex;\n",
              "      flex-wrap:wrap;\n",
              "      gap: 12px;\n",
              "    }\n",
              "\n",
              "    .colab-df-convert {\n",
              "      background-color: #E8F0FE;\n",
              "      border: none;\n",
              "      border-radius: 50%;\n",
              "      cursor: pointer;\n",
              "      display: none;\n",
              "      fill: #1967D2;\n",
              "      height: 32px;\n",
              "      padding: 0 0 0 0;\n",
              "      width: 32px;\n",
              "    }\n",
              "\n",
              "    .colab-df-convert:hover {\n",
              "      background-color: #E2EBFA;\n",
              "      box-shadow: 0px 1px 2px rgba(60, 64, 67, 0.3), 0px 1px 3px 1px rgba(60, 64, 67, 0.15);\n",
              "      fill: #174EA6;\n",
              "    }\n",
              "\n",
              "    [theme=dark] .colab-df-convert {\n",
              "      background-color: #3B4455;\n",
              "      fill: #D2E3FC;\n",
              "    }\n",
              "\n",
              "    [theme=dark] .colab-df-convert:hover {\n",
              "      background-color: #434B5C;\n",
              "      box-shadow: 0px 1px 3px 1px rgba(0, 0, 0, 0.15);\n",
              "      filter: drop-shadow(0px 1px 2px rgba(0, 0, 0, 0.3));\n",
              "      fill: #FFFFFF;\n",
              "    }\n",
              "  </style>\n",
              "\n",
              "      <script>\n",
              "        const buttonEl =\n",
              "          document.querySelector('#df-bcfc452e-914c-4163-8e26-d675a0633490 button.colab-df-convert');\n",
              "        buttonEl.style.display =\n",
              "          google.colab.kernel.accessAllowed ? 'block' : 'none';\n",
              "\n",
              "        async function convertToInteractive(key) {\n",
              "          const element = document.querySelector('#df-bcfc452e-914c-4163-8e26-d675a0633490');\n",
              "          const dataTable =\n",
              "            await google.colab.kernel.invokeFunction('convertToInteractive',\n",
              "                                                     [key], {});\n",
              "          if (!dataTable) return;\n",
              "\n",
              "          const docLinkHtml = 'Like what you see? Visit the ' +\n",
              "            '<a target=\"_blank\" href=https://colab.research.google.com/notebooks/data_table.ipynb>data table notebook</a>'\n",
              "            + ' to learn more about interactive tables.';\n",
              "          element.innerHTML = '';\n",
              "          dataTable['output_type'] = 'display_data';\n",
              "          await google.colab.output.renderOutput(dataTable, element);\n",
              "          const docLink = document.createElement('div');\n",
              "          docLink.innerHTML = docLinkHtml;\n",
              "          element.appendChild(docLink);\n",
              "        }\n",
              "      </script>\n",
              "    </div>\n",
              "  </div>\n",
              "  "
            ]
          },
          "metadata": {},
          "execution_count": 106
        }
      ]
    },
    {
      "cell_type": "code",
      "source": [
        "df.tail()"
      ],
      "metadata": {
        "colab": {
          "base_uri": "https://localhost:8080/",
          "height": 206
        },
        "id": "_pUywGopAV6p",
        "outputId": "69bd1800-78df-4f7f-9115-0d10c383fce8"
      },
      "execution_count": 107,
      "outputs": [
        {
          "output_type": "execute_result",
          "data": {
            "text/plain": [
              "      Year  Month    Segment      Region           KPI Value Type   Value\n",
              "1092  2022      6  Customers       India  Lv1_Visitors    Actuals  506023\n",
              "1093  2022      6  Customers       India  Lv2_Visitors    Actuals  325564\n",
              "1094  2022      6  Customers       India  Lv3_Visitors    Actuals  192385\n",
              "1096  2022      6  Customers      Uddepy  Lv2_Visitors    Actuals   57499\n",
              "1571  2022      1  Customers  Aurangabad  Lv5_Visitors    Actuals     527"
            ],
            "text/html": [
              "\n",
              "  <div id=\"df-f9af96c9-5460-4542-93c5-419f53a34a13\">\n",
              "    <div class=\"colab-df-container\">\n",
              "      <div>\n",
              "<style scoped>\n",
              "    .dataframe tbody tr th:only-of-type {\n",
              "        vertical-align: middle;\n",
              "    }\n",
              "\n",
              "    .dataframe tbody tr th {\n",
              "        vertical-align: top;\n",
              "    }\n",
              "\n",
              "    .dataframe thead th {\n",
              "        text-align: right;\n",
              "    }\n",
              "</style>\n",
              "<table border=\"1\" class=\"dataframe\">\n",
              "  <thead>\n",
              "    <tr style=\"text-align: right;\">\n",
              "      <th></th>\n",
              "      <th>Year</th>\n",
              "      <th>Month</th>\n",
              "      <th>Segment</th>\n",
              "      <th>Region</th>\n",
              "      <th>KPI</th>\n",
              "      <th>Value Type</th>\n",
              "      <th>Value</th>\n",
              "    </tr>\n",
              "  </thead>\n",
              "  <tbody>\n",
              "    <tr>\n",
              "      <th>1092</th>\n",
              "      <td>2022</td>\n",
              "      <td>6</td>\n",
              "      <td>Customers</td>\n",
              "      <td>India</td>\n",
              "      <td>Lv1_Visitors</td>\n",
              "      <td>Actuals</td>\n",
              "      <td>506023</td>\n",
              "    </tr>\n",
              "    <tr>\n",
              "      <th>1093</th>\n",
              "      <td>2022</td>\n",
              "      <td>6</td>\n",
              "      <td>Customers</td>\n",
              "      <td>India</td>\n",
              "      <td>Lv2_Visitors</td>\n",
              "      <td>Actuals</td>\n",
              "      <td>325564</td>\n",
              "    </tr>\n",
              "    <tr>\n",
              "      <th>1094</th>\n",
              "      <td>2022</td>\n",
              "      <td>6</td>\n",
              "      <td>Customers</td>\n",
              "      <td>India</td>\n",
              "      <td>Lv3_Visitors</td>\n",
              "      <td>Actuals</td>\n",
              "      <td>192385</td>\n",
              "    </tr>\n",
              "    <tr>\n",
              "      <th>1096</th>\n",
              "      <td>2022</td>\n",
              "      <td>6</td>\n",
              "      <td>Customers</td>\n",
              "      <td>Uddepy</td>\n",
              "      <td>Lv2_Visitors</td>\n",
              "      <td>Actuals</td>\n",
              "      <td>57499</td>\n",
              "    </tr>\n",
              "    <tr>\n",
              "      <th>1571</th>\n",
              "      <td>2022</td>\n",
              "      <td>1</td>\n",
              "      <td>Customers</td>\n",
              "      <td>Aurangabad</td>\n",
              "      <td>Lv5_Visitors</td>\n",
              "      <td>Actuals</td>\n",
              "      <td>527</td>\n",
              "    </tr>\n",
              "  </tbody>\n",
              "</table>\n",
              "</div>\n",
              "      <button class=\"colab-df-convert\" onclick=\"convertToInteractive('df-f9af96c9-5460-4542-93c5-419f53a34a13')\"\n",
              "              title=\"Convert this dataframe to an interactive table.\"\n",
              "              style=\"display:none;\">\n",
              "        \n",
              "  <svg xmlns=\"http://www.w3.org/2000/svg\" height=\"24px\"viewBox=\"0 0 24 24\"\n",
              "       width=\"24px\">\n",
              "    <path d=\"M0 0h24v24H0V0z\" fill=\"none\"/>\n",
              "    <path d=\"M18.56 5.44l.94 2.06.94-2.06 2.06-.94-2.06-.94-.94-2.06-.94 2.06-2.06.94zm-11 1L8.5 8.5l.94-2.06 2.06-.94-2.06-.94L8.5 2.5l-.94 2.06-2.06.94zm10 10l.94 2.06.94-2.06 2.06-.94-2.06-.94-.94-2.06-.94 2.06-2.06.94z\"/><path d=\"M17.41 7.96l-1.37-1.37c-.4-.4-.92-.59-1.43-.59-.52 0-1.04.2-1.43.59L10.3 9.45l-7.72 7.72c-.78.78-.78 2.05 0 2.83L4 21.41c.39.39.9.59 1.41.59.51 0 1.02-.2 1.41-.59l7.78-7.78 2.81-2.81c.8-.78.8-2.07 0-2.86zM5.41 20L4 18.59l7.72-7.72 1.47 1.35L5.41 20z\"/>\n",
              "  </svg>\n",
              "      </button>\n",
              "      \n",
              "  <style>\n",
              "    .colab-df-container {\n",
              "      display:flex;\n",
              "      flex-wrap:wrap;\n",
              "      gap: 12px;\n",
              "    }\n",
              "\n",
              "    .colab-df-convert {\n",
              "      background-color: #E8F0FE;\n",
              "      border: none;\n",
              "      border-radius: 50%;\n",
              "      cursor: pointer;\n",
              "      display: none;\n",
              "      fill: #1967D2;\n",
              "      height: 32px;\n",
              "      padding: 0 0 0 0;\n",
              "      width: 32px;\n",
              "    }\n",
              "\n",
              "    .colab-df-convert:hover {\n",
              "      background-color: #E2EBFA;\n",
              "      box-shadow: 0px 1px 2px rgba(60, 64, 67, 0.3), 0px 1px 3px 1px rgba(60, 64, 67, 0.15);\n",
              "      fill: #174EA6;\n",
              "    }\n",
              "\n",
              "    [theme=dark] .colab-df-convert {\n",
              "      background-color: #3B4455;\n",
              "      fill: #D2E3FC;\n",
              "    }\n",
              "\n",
              "    [theme=dark] .colab-df-convert:hover {\n",
              "      background-color: #434B5C;\n",
              "      box-shadow: 0px 1px 3px 1px rgba(0, 0, 0, 0.15);\n",
              "      filter: drop-shadow(0px 1px 2px rgba(0, 0, 0, 0.3));\n",
              "      fill: #FFFFFF;\n",
              "    }\n",
              "  </style>\n",
              "\n",
              "      <script>\n",
              "        const buttonEl =\n",
              "          document.querySelector('#df-f9af96c9-5460-4542-93c5-419f53a34a13 button.colab-df-convert');\n",
              "        buttonEl.style.display =\n",
              "          google.colab.kernel.accessAllowed ? 'block' : 'none';\n",
              "\n",
              "        async function convertToInteractive(key) {\n",
              "          const element = document.querySelector('#df-f9af96c9-5460-4542-93c5-419f53a34a13');\n",
              "          const dataTable =\n",
              "            await google.colab.kernel.invokeFunction('convertToInteractive',\n",
              "                                                     [key], {});\n",
              "          if (!dataTable) return;\n",
              "\n",
              "          const docLinkHtml = 'Like what you see? Visit the ' +\n",
              "            '<a target=\"_blank\" href=https://colab.research.google.com/notebooks/data_table.ipynb>data table notebook</a>'\n",
              "            + ' to learn more about interactive tables.';\n",
              "          element.innerHTML = '';\n",
              "          dataTable['output_type'] = 'display_data';\n",
              "          await google.colab.output.renderOutput(dataTable, element);\n",
              "          const docLink = document.createElement('div');\n",
              "          docLink.innerHTML = docLinkHtml;\n",
              "          element.appendChild(docLink);\n",
              "        }\n",
              "      </script>\n",
              "    </div>\n",
              "  </div>\n",
              "  "
            ]
          },
          "metadata": {},
          "execution_count": 107
        }
      ]
    },
    {
      "cell_type": "code",
      "source": [
        "df['Year'].value_counts()"
      ],
      "metadata": {
        "colab": {
          "base_uri": "https://localhost:8080/"
        },
        "id": "UOL1q68i-pA5",
        "outputId": "b57db060-1b4f-4995-d70c-3f4f6d1eb195"
      },
      "execution_count": 108,
      "outputs": [
        {
          "output_type": "execute_result",
          "data": {
            "text/plain": [
              "2022    660\n",
              "2020    456\n",
              "2021    456\n",
              "Name: Year, dtype: int64"
            ]
          },
          "metadata": {},
          "execution_count": 108
        }
      ]
    },
    {
      "cell_type": "code",
      "source": [
        "df['Month'].value_counts()"
      ],
      "metadata": {
        "colab": {
          "base_uri": "https://localhost:8080/"
        },
        "id": "Emts1oUi-yqJ",
        "outputId": "19c0031f-b21a-4c25-d1a2-e0a720a5e468"
      },
      "execution_count": 109,
      "outputs": [
        {
          "output_type": "execute_result",
          "data": {
            "text/plain": [
              "12    131\n",
              "9     131\n",
              "8     131\n",
              "10    131\n",
              "7     131\n",
              "2     131\n",
              "1     131\n",
              "11    131\n",
              "3     131\n",
              "4     131\n",
              "6     131\n",
              "5     131\n",
              "Name: Month, dtype: int64"
            ]
          },
          "metadata": {},
          "execution_count": 109
        }
      ]
    },
    {
      "cell_type": "code",
      "source": [
        "df['Segment'].value_counts()"
      ],
      "metadata": {
        "colab": {
          "base_uri": "https://localhost:8080/"
        },
        "id": "TsC5Px1_-KG2",
        "outputId": "689f4c41-f82b-4070-bc0b-6502be9efcf1"
      },
      "execution_count": 110,
      "outputs": [
        {
          "output_type": "execute_result",
          "data": {
            "text/plain": [
              "Customers    1080\n",
              "Clients       492\n",
              "Name: Segment, dtype: int64"
            ]
          },
          "metadata": {},
          "execution_count": 110
        }
      ]
    },
    {
      "cell_type": "code",
      "source": [
        "df.dtypes"
      ],
      "metadata": {
        "colab": {
          "base_uri": "https://localhost:8080/"
        },
        "id": "jy31tmkd-Eg5",
        "outputId": "caec12a1-a6ec-41ce-cfb3-298b556ad5ea"
      },
      "execution_count": 111,
      "outputs": [
        {
          "output_type": "execute_result",
          "data": {
            "text/plain": [
              "Year           int64\n",
              "Month          int64\n",
              "Segment       object\n",
              "Region        object\n",
              "KPI           object\n",
              "Value Type    object\n",
              "Value          int64\n",
              "dtype: object"
            ]
          },
          "metadata": {},
          "execution_count": 111
        }
      ]
    },
    {
      "cell_type": "code",
      "source": [
        "df.shape"
      ],
      "metadata": {
        "colab": {
          "base_uri": "https://localhost:8080/"
        },
        "id": "yyAtVhlD4uh_",
        "outputId": "00ab4f7d-377f-4904-fb85-adf27fa4b1b5"
      },
      "execution_count": 112,
      "outputs": [
        {
          "output_type": "execute_result",
          "data": {
            "text/plain": [
              "(1572, 7)"
            ]
          },
          "metadata": {},
          "execution_count": 112
        }
      ]
    },
    {
      "cell_type": "code",
      "source": [
        "df.nunique()"
      ],
      "metadata": {
        "colab": {
          "base_uri": "https://localhost:8080/"
        },
        "id": "Si7tJV5h4w7v",
        "outputId": "a7bd6e23-97f3-4917-d0db-2f3a1c3f8ba7"
      },
      "execution_count": 113,
      "outputs": [
        {
          "output_type": "execute_result",
          "data": {
            "text/plain": [
              "Year             3\n",
              "Month           12\n",
              "Segment          2\n",
              "Region           7\n",
              "KPI              5\n",
              "Value Type       1\n",
              "Value         1558\n",
              "dtype: int64"
            ]
          },
          "metadata": {},
          "execution_count": 113
        }
      ]
    },
    {
      "cell_type": "markdown",
      "source": [
        "It is difficult to determine the exact type of company that this dataset belongs to. However, based on the information available in the dataset, it appears to be a company that tracks and analyzes customer or visitor behavior. This could include companies in various industries, such as retail, e-commerce, tourism, or any other industry that involves customer interactions.\n",
        "\n",
        "It is also possible that the levels of visitors could represent different types of customers based on their behavior, such as:\n",
        "*   Level 1 Visitors: Users who have just visited the website and have not\n",
        "registered or provided any personal information.\n",
        "*   Level 2 Visitors: Registered users who have not made any purchases yet.\n",
        "*   Level 3 Visitors: Users who have made one or more purchases on the website.\n",
        "*   Level 4 Visitors: Loyal customers who make frequent purchases on the website.\n",
        "*   Level 5 Visitors: VIP customers who make high-value purchases and receive special privileges or rewards.\n",
        "\n",
        "\n",
        "\n",
        "\n",
        "\n",
        "\n",
        "\n",
        "\n",
        "\n",
        "\n",
        "\n"
      ],
      "metadata": {
        "id": "i3YHKgIXyb94"
      }
    },
    {
      "cell_type": "code",
      "source": [],
      "metadata": {
        "id": "VcYde2yG3FPR"
      },
      "execution_count": 113,
      "outputs": []
    },
    {
      "cell_type": "code",
      "source": [
        "\n",
        "# Create a pivot table\n",
        "pivot_table = pd.pivot_table(df, values='Value', index=['Year', 'Month', 'Segment'], columns=['KPI', 'Value Type'], aggfunc='sum')\n",
        "\n",
        "# Flatten the multi-level column index\n",
        "pivot_table.columns = [f'{col[0]}_{col[1]}' for col in pivot_table.columns]\n",
        "\n",
        "# Reset the index to include year and month\n",
        "pivot_table.reset_index(inplace=True)\n"
      ],
      "metadata": {
        "id": "Ryqpy-2Z3FL2"
      },
      "execution_count": 114,
      "outputs": []
    },
    {
      "cell_type": "code",
      "source": [
        "# Print the pivot table\n",
        "pivot_table"
      ],
      "metadata": {
        "id": "kvuTlp1t3FJS",
        "colab": {
          "base_uri": "https://localhost:8080/",
          "height": 423
        },
        "outputId": "1ce411b9-58d1-453a-cb95-35d28e67d741"
      },
      "execution_count": 115,
      "outputs": [
        {
          "output_type": "execute_result",
          "data": {
            "text/plain": [
              "    Year  Month    Segment  Lv1_Visitors_Actuals  Lv2_Visitors_Actuals  \\\n",
              "0   2020      1    Clients               3322789               2304318   \n",
              "1   2020      1  Customers                605252                460953   \n",
              "2   2020      2    Clients               2976450               2021915   \n",
              "3   2020      2  Customers                634726                488635   \n",
              "4   2020      3    Clients               3453194               2334668   \n",
              "..   ...    ...        ...                   ...                   ...   \n",
              "67  2022     10  Customers                595663                418393   \n",
              "68  2022     11    Clients               4857535               3089427   \n",
              "69  2022     11  Customers                619135                444157   \n",
              "70  2022     12    Clients               4392558               2819845   \n",
              "71  2022     12  Customers                587719                400044   \n",
              "\n",
              "    Lv3_Visitors_Actuals  Lv4_Visitors_Actuals  Lv5_Visitors_Actuals  \n",
              "0                2410633               1157186                363939  \n",
              "1                 555356                235096                 68562  \n",
              "2                2101659               1011351                318689  \n",
              "3                 610242                260685                 70144  \n",
              "4                2440362               1186822                380754  \n",
              "..                   ...                   ...                   ...  \n",
              "67                296815                 94824                 24425  \n",
              "68               2352993               1118281                427054  \n",
              "69                331189                109141                 30289  \n",
              "70               2358706                988546                107913  \n",
              "71                286948                 92106                  7303  \n",
              "\n",
              "[72 rows x 8 columns]"
            ],
            "text/html": [
              "\n",
              "  <div id=\"df-7cfe0535-ac72-45fb-adba-8f6e9f96bf89\">\n",
              "    <div class=\"colab-df-container\">\n",
              "      <div>\n",
              "<style scoped>\n",
              "    .dataframe tbody tr th:only-of-type {\n",
              "        vertical-align: middle;\n",
              "    }\n",
              "\n",
              "    .dataframe tbody tr th {\n",
              "        vertical-align: top;\n",
              "    }\n",
              "\n",
              "    .dataframe thead th {\n",
              "        text-align: right;\n",
              "    }\n",
              "</style>\n",
              "<table border=\"1\" class=\"dataframe\">\n",
              "  <thead>\n",
              "    <tr style=\"text-align: right;\">\n",
              "      <th></th>\n",
              "      <th>Year</th>\n",
              "      <th>Month</th>\n",
              "      <th>Segment</th>\n",
              "      <th>Lv1_Visitors_Actuals</th>\n",
              "      <th>Lv2_Visitors_Actuals</th>\n",
              "      <th>Lv3_Visitors_Actuals</th>\n",
              "      <th>Lv4_Visitors_Actuals</th>\n",
              "      <th>Lv5_Visitors_Actuals</th>\n",
              "    </tr>\n",
              "  </thead>\n",
              "  <tbody>\n",
              "    <tr>\n",
              "      <th>0</th>\n",
              "      <td>2020</td>\n",
              "      <td>1</td>\n",
              "      <td>Clients</td>\n",
              "      <td>3322789</td>\n",
              "      <td>2304318</td>\n",
              "      <td>2410633</td>\n",
              "      <td>1157186</td>\n",
              "      <td>363939</td>\n",
              "    </tr>\n",
              "    <tr>\n",
              "      <th>1</th>\n",
              "      <td>2020</td>\n",
              "      <td>1</td>\n",
              "      <td>Customers</td>\n",
              "      <td>605252</td>\n",
              "      <td>460953</td>\n",
              "      <td>555356</td>\n",
              "      <td>235096</td>\n",
              "      <td>68562</td>\n",
              "    </tr>\n",
              "    <tr>\n",
              "      <th>2</th>\n",
              "      <td>2020</td>\n",
              "      <td>2</td>\n",
              "      <td>Clients</td>\n",
              "      <td>2976450</td>\n",
              "      <td>2021915</td>\n",
              "      <td>2101659</td>\n",
              "      <td>1011351</td>\n",
              "      <td>318689</td>\n",
              "    </tr>\n",
              "    <tr>\n",
              "      <th>3</th>\n",
              "      <td>2020</td>\n",
              "      <td>2</td>\n",
              "      <td>Customers</td>\n",
              "      <td>634726</td>\n",
              "      <td>488635</td>\n",
              "      <td>610242</td>\n",
              "      <td>260685</td>\n",
              "      <td>70144</td>\n",
              "    </tr>\n",
              "    <tr>\n",
              "      <th>4</th>\n",
              "      <td>2020</td>\n",
              "      <td>3</td>\n",
              "      <td>Clients</td>\n",
              "      <td>3453194</td>\n",
              "      <td>2334668</td>\n",
              "      <td>2440362</td>\n",
              "      <td>1186822</td>\n",
              "      <td>380754</td>\n",
              "    </tr>\n",
              "    <tr>\n",
              "      <th>...</th>\n",
              "      <td>...</td>\n",
              "      <td>...</td>\n",
              "      <td>...</td>\n",
              "      <td>...</td>\n",
              "      <td>...</td>\n",
              "      <td>...</td>\n",
              "      <td>...</td>\n",
              "      <td>...</td>\n",
              "    </tr>\n",
              "    <tr>\n",
              "      <th>67</th>\n",
              "      <td>2022</td>\n",
              "      <td>10</td>\n",
              "      <td>Customers</td>\n",
              "      <td>595663</td>\n",
              "      <td>418393</td>\n",
              "      <td>296815</td>\n",
              "      <td>94824</td>\n",
              "      <td>24425</td>\n",
              "    </tr>\n",
              "    <tr>\n",
              "      <th>68</th>\n",
              "      <td>2022</td>\n",
              "      <td>11</td>\n",
              "      <td>Clients</td>\n",
              "      <td>4857535</td>\n",
              "      <td>3089427</td>\n",
              "      <td>2352993</td>\n",
              "      <td>1118281</td>\n",
              "      <td>427054</td>\n",
              "    </tr>\n",
              "    <tr>\n",
              "      <th>69</th>\n",
              "      <td>2022</td>\n",
              "      <td>11</td>\n",
              "      <td>Customers</td>\n",
              "      <td>619135</td>\n",
              "      <td>444157</td>\n",
              "      <td>331189</td>\n",
              "      <td>109141</td>\n",
              "      <td>30289</td>\n",
              "    </tr>\n",
              "    <tr>\n",
              "      <th>70</th>\n",
              "      <td>2022</td>\n",
              "      <td>12</td>\n",
              "      <td>Clients</td>\n",
              "      <td>4392558</td>\n",
              "      <td>2819845</td>\n",
              "      <td>2358706</td>\n",
              "      <td>988546</td>\n",
              "      <td>107913</td>\n",
              "    </tr>\n",
              "    <tr>\n",
              "      <th>71</th>\n",
              "      <td>2022</td>\n",
              "      <td>12</td>\n",
              "      <td>Customers</td>\n",
              "      <td>587719</td>\n",
              "      <td>400044</td>\n",
              "      <td>286948</td>\n",
              "      <td>92106</td>\n",
              "      <td>7303</td>\n",
              "    </tr>\n",
              "  </tbody>\n",
              "</table>\n",
              "<p>72 rows × 8 columns</p>\n",
              "</div>\n",
              "      <button class=\"colab-df-convert\" onclick=\"convertToInteractive('df-7cfe0535-ac72-45fb-adba-8f6e9f96bf89')\"\n",
              "              title=\"Convert this dataframe to an interactive table.\"\n",
              "              style=\"display:none;\">\n",
              "        \n",
              "  <svg xmlns=\"http://www.w3.org/2000/svg\" height=\"24px\"viewBox=\"0 0 24 24\"\n",
              "       width=\"24px\">\n",
              "    <path d=\"M0 0h24v24H0V0z\" fill=\"none\"/>\n",
              "    <path d=\"M18.56 5.44l.94 2.06.94-2.06 2.06-.94-2.06-.94-.94-2.06-.94 2.06-2.06.94zm-11 1L8.5 8.5l.94-2.06 2.06-.94-2.06-.94L8.5 2.5l-.94 2.06-2.06.94zm10 10l.94 2.06.94-2.06 2.06-.94-2.06-.94-.94-2.06-.94 2.06-2.06.94z\"/><path d=\"M17.41 7.96l-1.37-1.37c-.4-.4-.92-.59-1.43-.59-.52 0-1.04.2-1.43.59L10.3 9.45l-7.72 7.72c-.78.78-.78 2.05 0 2.83L4 21.41c.39.39.9.59 1.41.59.51 0 1.02-.2 1.41-.59l7.78-7.78 2.81-2.81c.8-.78.8-2.07 0-2.86zM5.41 20L4 18.59l7.72-7.72 1.47 1.35L5.41 20z\"/>\n",
              "  </svg>\n",
              "      </button>\n",
              "      \n",
              "  <style>\n",
              "    .colab-df-container {\n",
              "      display:flex;\n",
              "      flex-wrap:wrap;\n",
              "      gap: 12px;\n",
              "    }\n",
              "\n",
              "    .colab-df-convert {\n",
              "      background-color: #E8F0FE;\n",
              "      border: none;\n",
              "      border-radius: 50%;\n",
              "      cursor: pointer;\n",
              "      display: none;\n",
              "      fill: #1967D2;\n",
              "      height: 32px;\n",
              "      padding: 0 0 0 0;\n",
              "      width: 32px;\n",
              "    }\n",
              "\n",
              "    .colab-df-convert:hover {\n",
              "      background-color: #E2EBFA;\n",
              "      box-shadow: 0px 1px 2px rgba(60, 64, 67, 0.3), 0px 1px 3px 1px rgba(60, 64, 67, 0.15);\n",
              "      fill: #174EA6;\n",
              "    }\n",
              "\n",
              "    [theme=dark] .colab-df-convert {\n",
              "      background-color: #3B4455;\n",
              "      fill: #D2E3FC;\n",
              "    }\n",
              "\n",
              "    [theme=dark] .colab-df-convert:hover {\n",
              "      background-color: #434B5C;\n",
              "      box-shadow: 0px 1px 3px 1px rgba(0, 0, 0, 0.15);\n",
              "      filter: drop-shadow(0px 1px 2px rgba(0, 0, 0, 0.3));\n",
              "      fill: #FFFFFF;\n",
              "    }\n",
              "  </style>\n",
              "\n",
              "      <script>\n",
              "        const buttonEl =\n",
              "          document.querySelector('#df-7cfe0535-ac72-45fb-adba-8f6e9f96bf89 button.colab-df-convert');\n",
              "        buttonEl.style.display =\n",
              "          google.colab.kernel.accessAllowed ? 'block' : 'none';\n",
              "\n",
              "        async function convertToInteractive(key) {\n",
              "          const element = document.querySelector('#df-7cfe0535-ac72-45fb-adba-8f6e9f96bf89');\n",
              "          const dataTable =\n",
              "            await google.colab.kernel.invokeFunction('convertToInteractive',\n",
              "                                                     [key], {});\n",
              "          if (!dataTable) return;\n",
              "\n",
              "          const docLinkHtml = 'Like what you see? Visit the ' +\n",
              "            '<a target=\"_blank\" href=https://colab.research.google.com/notebooks/data_table.ipynb>data table notebook</a>'\n",
              "            + ' to learn more about interactive tables.';\n",
              "          element.innerHTML = '';\n",
              "          dataTable['output_type'] = 'display_data';\n",
              "          await google.colab.output.renderOutput(dataTable, element);\n",
              "          const docLink = document.createElement('div');\n",
              "          docLink.innerHTML = docLinkHtml;\n",
              "          element.appendChild(docLink);\n",
              "        }\n",
              "      </script>\n",
              "    </div>\n",
              "  </div>\n",
              "  "
            ]
          },
          "metadata": {},
          "execution_count": 115
        }
      ]
    },
    {
      "cell_type": "code",
      "source": [
        "pivot_table.head()"
      ],
      "metadata": {
        "colab": {
          "base_uri": "https://localhost:8080/",
          "height": 206
        },
        "id": "0O4L_D3y0b41",
        "outputId": "a2534cbf-9392-4c22-f054-76a260360a29"
      },
      "execution_count": 116,
      "outputs": [
        {
          "output_type": "execute_result",
          "data": {
            "text/plain": [
              "   Year  Month    Segment  Lv1_Visitors_Actuals  Lv2_Visitors_Actuals  \\\n",
              "0  2020      1    Clients               3322789               2304318   \n",
              "1  2020      1  Customers                605252                460953   \n",
              "2  2020      2    Clients               2976450               2021915   \n",
              "3  2020      2  Customers                634726                488635   \n",
              "4  2020      3    Clients               3453194               2334668   \n",
              "\n",
              "   Lv3_Visitors_Actuals  Lv4_Visitors_Actuals  Lv5_Visitors_Actuals  \n",
              "0               2410633               1157186                363939  \n",
              "1                555356                235096                 68562  \n",
              "2               2101659               1011351                318689  \n",
              "3                610242                260685                 70144  \n",
              "4               2440362               1186822                380754  "
            ],
            "text/html": [
              "\n",
              "  <div id=\"df-9d50272a-3c98-4e3e-a5f4-a0dd623f34e3\">\n",
              "    <div class=\"colab-df-container\">\n",
              "      <div>\n",
              "<style scoped>\n",
              "    .dataframe tbody tr th:only-of-type {\n",
              "        vertical-align: middle;\n",
              "    }\n",
              "\n",
              "    .dataframe tbody tr th {\n",
              "        vertical-align: top;\n",
              "    }\n",
              "\n",
              "    .dataframe thead th {\n",
              "        text-align: right;\n",
              "    }\n",
              "</style>\n",
              "<table border=\"1\" class=\"dataframe\">\n",
              "  <thead>\n",
              "    <tr style=\"text-align: right;\">\n",
              "      <th></th>\n",
              "      <th>Year</th>\n",
              "      <th>Month</th>\n",
              "      <th>Segment</th>\n",
              "      <th>Lv1_Visitors_Actuals</th>\n",
              "      <th>Lv2_Visitors_Actuals</th>\n",
              "      <th>Lv3_Visitors_Actuals</th>\n",
              "      <th>Lv4_Visitors_Actuals</th>\n",
              "      <th>Lv5_Visitors_Actuals</th>\n",
              "    </tr>\n",
              "  </thead>\n",
              "  <tbody>\n",
              "    <tr>\n",
              "      <th>0</th>\n",
              "      <td>2020</td>\n",
              "      <td>1</td>\n",
              "      <td>Clients</td>\n",
              "      <td>3322789</td>\n",
              "      <td>2304318</td>\n",
              "      <td>2410633</td>\n",
              "      <td>1157186</td>\n",
              "      <td>363939</td>\n",
              "    </tr>\n",
              "    <tr>\n",
              "      <th>1</th>\n",
              "      <td>2020</td>\n",
              "      <td>1</td>\n",
              "      <td>Customers</td>\n",
              "      <td>605252</td>\n",
              "      <td>460953</td>\n",
              "      <td>555356</td>\n",
              "      <td>235096</td>\n",
              "      <td>68562</td>\n",
              "    </tr>\n",
              "    <tr>\n",
              "      <th>2</th>\n",
              "      <td>2020</td>\n",
              "      <td>2</td>\n",
              "      <td>Clients</td>\n",
              "      <td>2976450</td>\n",
              "      <td>2021915</td>\n",
              "      <td>2101659</td>\n",
              "      <td>1011351</td>\n",
              "      <td>318689</td>\n",
              "    </tr>\n",
              "    <tr>\n",
              "      <th>3</th>\n",
              "      <td>2020</td>\n",
              "      <td>2</td>\n",
              "      <td>Customers</td>\n",
              "      <td>634726</td>\n",
              "      <td>488635</td>\n",
              "      <td>610242</td>\n",
              "      <td>260685</td>\n",
              "      <td>70144</td>\n",
              "    </tr>\n",
              "    <tr>\n",
              "      <th>4</th>\n",
              "      <td>2020</td>\n",
              "      <td>3</td>\n",
              "      <td>Clients</td>\n",
              "      <td>3453194</td>\n",
              "      <td>2334668</td>\n",
              "      <td>2440362</td>\n",
              "      <td>1186822</td>\n",
              "      <td>380754</td>\n",
              "    </tr>\n",
              "  </tbody>\n",
              "</table>\n",
              "</div>\n",
              "      <button class=\"colab-df-convert\" onclick=\"convertToInteractive('df-9d50272a-3c98-4e3e-a5f4-a0dd623f34e3')\"\n",
              "              title=\"Convert this dataframe to an interactive table.\"\n",
              "              style=\"display:none;\">\n",
              "        \n",
              "  <svg xmlns=\"http://www.w3.org/2000/svg\" height=\"24px\"viewBox=\"0 0 24 24\"\n",
              "       width=\"24px\">\n",
              "    <path d=\"M0 0h24v24H0V0z\" fill=\"none\"/>\n",
              "    <path d=\"M18.56 5.44l.94 2.06.94-2.06 2.06-.94-2.06-.94-.94-2.06-.94 2.06-2.06.94zm-11 1L8.5 8.5l.94-2.06 2.06-.94-2.06-.94L8.5 2.5l-.94 2.06-2.06.94zm10 10l.94 2.06.94-2.06 2.06-.94-2.06-.94-.94-2.06-.94 2.06-2.06.94z\"/><path d=\"M17.41 7.96l-1.37-1.37c-.4-.4-.92-.59-1.43-.59-.52 0-1.04.2-1.43.59L10.3 9.45l-7.72 7.72c-.78.78-.78 2.05 0 2.83L4 21.41c.39.39.9.59 1.41.59.51 0 1.02-.2 1.41-.59l7.78-7.78 2.81-2.81c.8-.78.8-2.07 0-2.86zM5.41 20L4 18.59l7.72-7.72 1.47 1.35L5.41 20z\"/>\n",
              "  </svg>\n",
              "      </button>\n",
              "      \n",
              "  <style>\n",
              "    .colab-df-container {\n",
              "      display:flex;\n",
              "      flex-wrap:wrap;\n",
              "      gap: 12px;\n",
              "    }\n",
              "\n",
              "    .colab-df-convert {\n",
              "      background-color: #E8F0FE;\n",
              "      border: none;\n",
              "      border-radius: 50%;\n",
              "      cursor: pointer;\n",
              "      display: none;\n",
              "      fill: #1967D2;\n",
              "      height: 32px;\n",
              "      padding: 0 0 0 0;\n",
              "      width: 32px;\n",
              "    }\n",
              "\n",
              "    .colab-df-convert:hover {\n",
              "      background-color: #E2EBFA;\n",
              "      box-shadow: 0px 1px 2px rgba(60, 64, 67, 0.3), 0px 1px 3px 1px rgba(60, 64, 67, 0.15);\n",
              "      fill: #174EA6;\n",
              "    }\n",
              "\n",
              "    [theme=dark] .colab-df-convert {\n",
              "      background-color: #3B4455;\n",
              "      fill: #D2E3FC;\n",
              "    }\n",
              "\n",
              "    [theme=dark] .colab-df-convert:hover {\n",
              "      background-color: #434B5C;\n",
              "      box-shadow: 0px 1px 3px 1px rgba(0, 0, 0, 0.15);\n",
              "      filter: drop-shadow(0px 1px 2px rgba(0, 0, 0, 0.3));\n",
              "      fill: #FFFFFF;\n",
              "    }\n",
              "  </style>\n",
              "\n",
              "      <script>\n",
              "        const buttonEl =\n",
              "          document.querySelector('#df-9d50272a-3c98-4e3e-a5f4-a0dd623f34e3 button.colab-df-convert');\n",
              "        buttonEl.style.display =\n",
              "          google.colab.kernel.accessAllowed ? 'block' : 'none';\n",
              "\n",
              "        async function convertToInteractive(key) {\n",
              "          const element = document.querySelector('#df-9d50272a-3c98-4e3e-a5f4-a0dd623f34e3');\n",
              "          const dataTable =\n",
              "            await google.colab.kernel.invokeFunction('convertToInteractive',\n",
              "                                                     [key], {});\n",
              "          if (!dataTable) return;\n",
              "\n",
              "          const docLinkHtml = 'Like what you see? Visit the ' +\n",
              "            '<a target=\"_blank\" href=https://colab.research.google.com/notebooks/data_table.ipynb>data table notebook</a>'\n",
              "            + ' to learn more about interactive tables.';\n",
              "          element.innerHTML = '';\n",
              "          dataTable['output_type'] = 'display_data';\n",
              "          await google.colab.output.renderOutput(dataTable, element);\n",
              "          const docLink = document.createElement('div');\n",
              "          docLink.innerHTML = docLinkHtml;\n",
              "          element.appendChild(docLink);\n",
              "        }\n",
              "      </script>\n",
              "    </div>\n",
              "  </div>\n",
              "  "
            ]
          },
          "metadata": {},
          "execution_count": 116
        }
      ]
    },
    {
      "cell_type": "code",
      "source": [
        "# Print the pivot table\n",
        "pivot_table.tail()"
      ],
      "metadata": {
        "colab": {
          "base_uri": "https://localhost:8080/",
          "height": 206
        },
        "id": "g9VOJAXi3FGv",
        "outputId": "ff41927c-1425-4a6d-bad0-836d2c8a0532"
      },
      "execution_count": 117,
      "outputs": [
        {
          "output_type": "execute_result",
          "data": {
            "text/plain": [
              "    Year  Month    Segment  Lv1_Visitors_Actuals  Lv2_Visitors_Actuals  \\\n",
              "67  2022     10  Customers                595663                418393   \n",
              "68  2022     11    Clients               4857535               3089427   \n",
              "69  2022     11  Customers                619135                444157   \n",
              "70  2022     12    Clients               4392558               2819845   \n",
              "71  2022     12  Customers                587719                400044   \n",
              "\n",
              "    Lv3_Visitors_Actuals  Lv4_Visitors_Actuals  Lv5_Visitors_Actuals  \n",
              "67                296815                 94824                 24425  \n",
              "68               2352993               1118281                427054  \n",
              "69                331189                109141                 30289  \n",
              "70               2358706                988546                107913  \n",
              "71                286948                 92106                  7303  "
            ],
            "text/html": [
              "\n",
              "  <div id=\"df-d3d3a312-820d-492f-aab3-60a6d1f93cb9\">\n",
              "    <div class=\"colab-df-container\">\n",
              "      <div>\n",
              "<style scoped>\n",
              "    .dataframe tbody tr th:only-of-type {\n",
              "        vertical-align: middle;\n",
              "    }\n",
              "\n",
              "    .dataframe tbody tr th {\n",
              "        vertical-align: top;\n",
              "    }\n",
              "\n",
              "    .dataframe thead th {\n",
              "        text-align: right;\n",
              "    }\n",
              "</style>\n",
              "<table border=\"1\" class=\"dataframe\">\n",
              "  <thead>\n",
              "    <tr style=\"text-align: right;\">\n",
              "      <th></th>\n",
              "      <th>Year</th>\n",
              "      <th>Month</th>\n",
              "      <th>Segment</th>\n",
              "      <th>Lv1_Visitors_Actuals</th>\n",
              "      <th>Lv2_Visitors_Actuals</th>\n",
              "      <th>Lv3_Visitors_Actuals</th>\n",
              "      <th>Lv4_Visitors_Actuals</th>\n",
              "      <th>Lv5_Visitors_Actuals</th>\n",
              "    </tr>\n",
              "  </thead>\n",
              "  <tbody>\n",
              "    <tr>\n",
              "      <th>67</th>\n",
              "      <td>2022</td>\n",
              "      <td>10</td>\n",
              "      <td>Customers</td>\n",
              "      <td>595663</td>\n",
              "      <td>418393</td>\n",
              "      <td>296815</td>\n",
              "      <td>94824</td>\n",
              "      <td>24425</td>\n",
              "    </tr>\n",
              "    <tr>\n",
              "      <th>68</th>\n",
              "      <td>2022</td>\n",
              "      <td>11</td>\n",
              "      <td>Clients</td>\n",
              "      <td>4857535</td>\n",
              "      <td>3089427</td>\n",
              "      <td>2352993</td>\n",
              "      <td>1118281</td>\n",
              "      <td>427054</td>\n",
              "    </tr>\n",
              "    <tr>\n",
              "      <th>69</th>\n",
              "      <td>2022</td>\n",
              "      <td>11</td>\n",
              "      <td>Customers</td>\n",
              "      <td>619135</td>\n",
              "      <td>444157</td>\n",
              "      <td>331189</td>\n",
              "      <td>109141</td>\n",
              "      <td>30289</td>\n",
              "    </tr>\n",
              "    <tr>\n",
              "      <th>70</th>\n",
              "      <td>2022</td>\n",
              "      <td>12</td>\n",
              "      <td>Clients</td>\n",
              "      <td>4392558</td>\n",
              "      <td>2819845</td>\n",
              "      <td>2358706</td>\n",
              "      <td>988546</td>\n",
              "      <td>107913</td>\n",
              "    </tr>\n",
              "    <tr>\n",
              "      <th>71</th>\n",
              "      <td>2022</td>\n",
              "      <td>12</td>\n",
              "      <td>Customers</td>\n",
              "      <td>587719</td>\n",
              "      <td>400044</td>\n",
              "      <td>286948</td>\n",
              "      <td>92106</td>\n",
              "      <td>7303</td>\n",
              "    </tr>\n",
              "  </tbody>\n",
              "</table>\n",
              "</div>\n",
              "      <button class=\"colab-df-convert\" onclick=\"convertToInteractive('df-d3d3a312-820d-492f-aab3-60a6d1f93cb9')\"\n",
              "              title=\"Convert this dataframe to an interactive table.\"\n",
              "              style=\"display:none;\">\n",
              "        \n",
              "  <svg xmlns=\"http://www.w3.org/2000/svg\" height=\"24px\"viewBox=\"0 0 24 24\"\n",
              "       width=\"24px\">\n",
              "    <path d=\"M0 0h24v24H0V0z\" fill=\"none\"/>\n",
              "    <path d=\"M18.56 5.44l.94 2.06.94-2.06 2.06-.94-2.06-.94-.94-2.06-.94 2.06-2.06.94zm-11 1L8.5 8.5l.94-2.06 2.06-.94-2.06-.94L8.5 2.5l-.94 2.06-2.06.94zm10 10l.94 2.06.94-2.06 2.06-.94-2.06-.94-.94-2.06-.94 2.06-2.06.94z\"/><path d=\"M17.41 7.96l-1.37-1.37c-.4-.4-.92-.59-1.43-.59-.52 0-1.04.2-1.43.59L10.3 9.45l-7.72 7.72c-.78.78-.78 2.05 0 2.83L4 21.41c.39.39.9.59 1.41.59.51 0 1.02-.2 1.41-.59l7.78-7.78 2.81-2.81c.8-.78.8-2.07 0-2.86zM5.41 20L4 18.59l7.72-7.72 1.47 1.35L5.41 20z\"/>\n",
              "  </svg>\n",
              "      </button>\n",
              "      \n",
              "  <style>\n",
              "    .colab-df-container {\n",
              "      display:flex;\n",
              "      flex-wrap:wrap;\n",
              "      gap: 12px;\n",
              "    }\n",
              "\n",
              "    .colab-df-convert {\n",
              "      background-color: #E8F0FE;\n",
              "      border: none;\n",
              "      border-radius: 50%;\n",
              "      cursor: pointer;\n",
              "      display: none;\n",
              "      fill: #1967D2;\n",
              "      height: 32px;\n",
              "      padding: 0 0 0 0;\n",
              "      width: 32px;\n",
              "    }\n",
              "\n",
              "    .colab-df-convert:hover {\n",
              "      background-color: #E2EBFA;\n",
              "      box-shadow: 0px 1px 2px rgba(60, 64, 67, 0.3), 0px 1px 3px 1px rgba(60, 64, 67, 0.15);\n",
              "      fill: #174EA6;\n",
              "    }\n",
              "\n",
              "    [theme=dark] .colab-df-convert {\n",
              "      background-color: #3B4455;\n",
              "      fill: #D2E3FC;\n",
              "    }\n",
              "\n",
              "    [theme=dark] .colab-df-convert:hover {\n",
              "      background-color: #434B5C;\n",
              "      box-shadow: 0px 1px 3px 1px rgba(0, 0, 0, 0.15);\n",
              "      filter: drop-shadow(0px 1px 2px rgba(0, 0, 0, 0.3));\n",
              "      fill: #FFFFFF;\n",
              "    }\n",
              "  </style>\n",
              "\n",
              "      <script>\n",
              "        const buttonEl =\n",
              "          document.querySelector('#df-d3d3a312-820d-492f-aab3-60a6d1f93cb9 button.colab-df-convert');\n",
              "        buttonEl.style.display =\n",
              "          google.colab.kernel.accessAllowed ? 'block' : 'none';\n",
              "\n",
              "        async function convertToInteractive(key) {\n",
              "          const element = document.querySelector('#df-d3d3a312-820d-492f-aab3-60a6d1f93cb9');\n",
              "          const dataTable =\n",
              "            await google.colab.kernel.invokeFunction('convertToInteractive',\n",
              "                                                     [key], {});\n",
              "          if (!dataTable) return;\n",
              "\n",
              "          const docLinkHtml = 'Like what you see? Visit the ' +\n",
              "            '<a target=\"_blank\" href=https://colab.research.google.com/notebooks/data_table.ipynb>data table notebook</a>'\n",
              "            + ' to learn more about interactive tables.';\n",
              "          element.innerHTML = '';\n",
              "          dataTable['output_type'] = 'display_data';\n",
              "          await google.colab.output.renderOutput(dataTable, element);\n",
              "          const docLink = document.createElement('div');\n",
              "          docLink.innerHTML = docLinkHtml;\n",
              "          element.appendChild(docLink);\n",
              "        }\n",
              "      </script>\n",
              "    </div>\n",
              "  </div>\n",
              "  "
            ]
          },
          "metadata": {},
          "execution_count": 117
        }
      ]
    },
    {
      "cell_type": "code",
      "source": [],
      "metadata": {
        "id": "d0kMYqMp1P_U"
      },
      "execution_count": 117,
      "outputs": []
    },
    {
      "cell_type": "code",
      "source": [
        "grouped = df.groupby(['Year','Region']).sum()"
      ],
      "metadata": {
        "id": "5T0vhx6n1wQo"
      },
      "execution_count": 118,
      "outputs": []
    },
    {
      "cell_type": "code",
      "source": [
        "pivot = grouped.pivot_table(values = 'Value', index = 'Year',columns = 'Region')"
      ],
      "metadata": {
        "id": "p3BHfjtd4G_n"
      },
      "execution_count": 119,
      "outputs": []
    },
    {
      "cell_type": "code",
      "source": [
        "pivot"
      ],
      "metadata": {
        "colab": {
          "base_uri": "https://localhost:8080/",
          "height": 174
        },
        "id": "IjoGcJSl5CSO",
        "outputId": "50556fdb-30f1-4981-c650-c60afab1c21f"
      },
      "execution_count": 120,
      "outputs": [
        {
          "output_type": "execute_result",
          "data": {
            "text/plain": [
              "Region  Aurangabad   Dehradun  Faridabad        India     Indore      Uddepy  \\\n",
              "Year                                                                           \n",
              "2020      285497.0  1172070.0  1170281.0  183457306.0        NaN   4376357.0   \n",
              "2021      300058.0   930998.0  1139358.0  116142601.0        NaN   3130906.0   \n",
              "2022      196448.0  8212445.0   921404.0  110865565.0  3543866.0  22307017.0   \n",
              "\n",
              "Region     Ujjain  \n",
              "Year               \n",
              "2020    1176987.0  \n",
              "2021     920026.0  \n",
              "2022    5743265.0  "
            ],
            "text/html": [
              "\n",
              "  <div id=\"df-e1ad4e22-0d05-459f-b020-a6dc38086237\">\n",
              "    <div class=\"colab-df-container\">\n",
              "      <div>\n",
              "<style scoped>\n",
              "    .dataframe tbody tr th:only-of-type {\n",
              "        vertical-align: middle;\n",
              "    }\n",
              "\n",
              "    .dataframe tbody tr th {\n",
              "        vertical-align: top;\n",
              "    }\n",
              "\n",
              "    .dataframe thead th {\n",
              "        text-align: right;\n",
              "    }\n",
              "</style>\n",
              "<table border=\"1\" class=\"dataframe\">\n",
              "  <thead>\n",
              "    <tr style=\"text-align: right;\">\n",
              "      <th>Region</th>\n",
              "      <th>Aurangabad</th>\n",
              "      <th>Dehradun</th>\n",
              "      <th>Faridabad</th>\n",
              "      <th>India</th>\n",
              "      <th>Indore</th>\n",
              "      <th>Uddepy</th>\n",
              "      <th>Ujjain</th>\n",
              "    </tr>\n",
              "    <tr>\n",
              "      <th>Year</th>\n",
              "      <th></th>\n",
              "      <th></th>\n",
              "      <th></th>\n",
              "      <th></th>\n",
              "      <th></th>\n",
              "      <th></th>\n",
              "      <th></th>\n",
              "    </tr>\n",
              "  </thead>\n",
              "  <tbody>\n",
              "    <tr>\n",
              "      <th>2020</th>\n",
              "      <td>285497.0</td>\n",
              "      <td>1172070.0</td>\n",
              "      <td>1170281.0</td>\n",
              "      <td>183457306.0</td>\n",
              "      <td>NaN</td>\n",
              "      <td>4376357.0</td>\n",
              "      <td>1176987.0</td>\n",
              "    </tr>\n",
              "    <tr>\n",
              "      <th>2021</th>\n",
              "      <td>300058.0</td>\n",
              "      <td>930998.0</td>\n",
              "      <td>1139358.0</td>\n",
              "      <td>116142601.0</td>\n",
              "      <td>NaN</td>\n",
              "      <td>3130906.0</td>\n",
              "      <td>920026.0</td>\n",
              "    </tr>\n",
              "    <tr>\n",
              "      <th>2022</th>\n",
              "      <td>196448.0</td>\n",
              "      <td>8212445.0</td>\n",
              "      <td>921404.0</td>\n",
              "      <td>110865565.0</td>\n",
              "      <td>3543866.0</td>\n",
              "      <td>22307017.0</td>\n",
              "      <td>5743265.0</td>\n",
              "    </tr>\n",
              "  </tbody>\n",
              "</table>\n",
              "</div>\n",
              "      <button class=\"colab-df-convert\" onclick=\"convertToInteractive('df-e1ad4e22-0d05-459f-b020-a6dc38086237')\"\n",
              "              title=\"Convert this dataframe to an interactive table.\"\n",
              "              style=\"display:none;\">\n",
              "        \n",
              "  <svg xmlns=\"http://www.w3.org/2000/svg\" height=\"24px\"viewBox=\"0 0 24 24\"\n",
              "       width=\"24px\">\n",
              "    <path d=\"M0 0h24v24H0V0z\" fill=\"none\"/>\n",
              "    <path d=\"M18.56 5.44l.94 2.06.94-2.06 2.06-.94-2.06-.94-.94-2.06-.94 2.06-2.06.94zm-11 1L8.5 8.5l.94-2.06 2.06-.94-2.06-.94L8.5 2.5l-.94 2.06-2.06.94zm10 10l.94 2.06.94-2.06 2.06-.94-2.06-.94-.94-2.06-.94 2.06-2.06.94z\"/><path d=\"M17.41 7.96l-1.37-1.37c-.4-.4-.92-.59-1.43-.59-.52 0-1.04.2-1.43.59L10.3 9.45l-7.72 7.72c-.78.78-.78 2.05 0 2.83L4 21.41c.39.39.9.59 1.41.59.51 0 1.02-.2 1.41-.59l7.78-7.78 2.81-2.81c.8-.78.8-2.07 0-2.86zM5.41 20L4 18.59l7.72-7.72 1.47 1.35L5.41 20z\"/>\n",
              "  </svg>\n",
              "      </button>\n",
              "      \n",
              "  <style>\n",
              "    .colab-df-container {\n",
              "      display:flex;\n",
              "      flex-wrap:wrap;\n",
              "      gap: 12px;\n",
              "    }\n",
              "\n",
              "    .colab-df-convert {\n",
              "      background-color: #E8F0FE;\n",
              "      border: none;\n",
              "      border-radius: 50%;\n",
              "      cursor: pointer;\n",
              "      display: none;\n",
              "      fill: #1967D2;\n",
              "      height: 32px;\n",
              "      padding: 0 0 0 0;\n",
              "      width: 32px;\n",
              "    }\n",
              "\n",
              "    .colab-df-convert:hover {\n",
              "      background-color: #E2EBFA;\n",
              "      box-shadow: 0px 1px 2px rgba(60, 64, 67, 0.3), 0px 1px 3px 1px rgba(60, 64, 67, 0.15);\n",
              "      fill: #174EA6;\n",
              "    }\n",
              "\n",
              "    [theme=dark] .colab-df-convert {\n",
              "      background-color: #3B4455;\n",
              "      fill: #D2E3FC;\n",
              "    }\n",
              "\n",
              "    [theme=dark] .colab-df-convert:hover {\n",
              "      background-color: #434B5C;\n",
              "      box-shadow: 0px 1px 3px 1px rgba(0, 0, 0, 0.15);\n",
              "      filter: drop-shadow(0px 1px 2px rgba(0, 0, 0, 0.3));\n",
              "      fill: #FFFFFF;\n",
              "    }\n",
              "  </style>\n",
              "\n",
              "      <script>\n",
              "        const buttonEl =\n",
              "          document.querySelector('#df-e1ad4e22-0d05-459f-b020-a6dc38086237 button.colab-df-convert');\n",
              "        buttonEl.style.display =\n",
              "          google.colab.kernel.accessAllowed ? 'block' : 'none';\n",
              "\n",
              "        async function convertToInteractive(key) {\n",
              "          const element = document.querySelector('#df-e1ad4e22-0d05-459f-b020-a6dc38086237');\n",
              "          const dataTable =\n",
              "            await google.colab.kernel.invokeFunction('convertToInteractive',\n",
              "                                                     [key], {});\n",
              "          if (!dataTable) return;\n",
              "\n",
              "          const docLinkHtml = 'Like what you see? Visit the ' +\n",
              "            '<a target=\"_blank\" href=https://colab.research.google.com/notebooks/data_table.ipynb>data table notebook</a>'\n",
              "            + ' to learn more about interactive tables.';\n",
              "          element.innerHTML = '';\n",
              "          dataTable['output_type'] = 'display_data';\n",
              "          await google.colab.output.renderOutput(dataTable, element);\n",
              "          const docLink = document.createElement('div');\n",
              "          docLink.innerHTML = docLinkHtml;\n",
              "          element.appendChild(docLink);\n",
              "        }\n",
              "      </script>\n",
              "    </div>\n",
              "  </div>\n",
              "  "
            ]
          },
          "metadata": {},
          "execution_count": 120
        }
      ]
    },
    {
      "cell_type": "code",
      "source": [
        "pivot.plot(kind ='line')\n",
        "plt.show()"
      ],
      "metadata": {
        "colab": {
          "base_uri": "https://localhost:8080/",
          "height": 465
        },
        "id": "Z73xavk64G8G",
        "outputId": "e7811783-fea0-4cc5-a06c-88f0bcb70b01"
      },
      "execution_count": 121,
      "outputs": [
        {
          "output_type": "display_data",
          "data": {
            "text/plain": [
              "<Figure size 640x480 with 1 Axes>"
            ],
            "image/png": "[encoded data removed]"
          },
          "metadata": {}
        }
      ]
    },
    {
      "cell_type": "code",
      "source": [
        "grouped = df.groupby(['Year','Region']).sum()"
      ],
      "metadata": {
        "id": "vDP5rJEz4cAE"
      },
      "execution_count": 122,
      "outputs": []
    },
    {
      "cell_type": "code",
      "source": [
        "num = ['Value']"
      ],
      "metadata": {
        "id": "1itaxDcP2adE"
      },
      "execution_count": 123,
      "outputs": []
    },
    {
      "cell_type": "code",
      "source": [
        "# check the ditribution for the numerical columns\n",
        "x_axis = num\n",
        "for x in x_axis:\n",
        " fig, axes = plt.subplots(1, 2, figsize=(18,4))\n",
        " sns.distplot(df[x], ax=axes[0], kde = True, hist=False)\n",
        " sns.boxplot(df[x], ax=axes[1], orient = \"h\", showmeans = True,palette=\"Set2\")\n",
        " fig.suptitle('Univariate Analysis of ' + x, fontsize=16)"
      ],
      "metadata": {
        "id": "dlsF1pnw9V0i",
        "colab": {
          "base_uri": "https://localhost:8080/",
          "height": 374
        },
        "outputId": "e9ce5b9e-f487-4f63-8a60-d90ac2360ffe"
      },
      "execution_count": 124,
      "outputs": [
        {
          "output_type": "display_data",
          "data": {
            "text/plain": [
              "<Figure size 1800x400 with 2 Axes>"
            ],
            "image/png": "[encoded data removed]"
          },
          "metadata": {}
        }
      ]
    },
    {
      "cell_type": "code",
      "source": [
        "plt.figure(figsize=(22,18))\n",
        "for i,col in enumerate(num):\n",
        " plt.subplot(4,7,i+1)\n",
        " sns.boxplot(df[col])"
      ],
      "metadata": {
        "id": "DDF5TSBD_Ama",
        "colab": {
          "base_uri": "https://localhost:8080/",
          "height": 377
        },
        "outputId": "b050109c-820f-4fca-ead8-b79b65b49ae2"
      },
      "execution_count": 125,
      "outputs": [
        {
          "output_type": "display_data",
          "data": {
            "text/plain": [
              "<Figure size 2200x1800 with 1 Axes>"
            ],
            "image/png": "[encoded data removed]"
          },
          "metadata": {}
        }
      ]
    },
    {
      "cell_type": "code",
      "source": [
        "df3 = df.copy()\n",
        "def remove_outliers_IQR(col):\n",
        " # Finding the IQR\n",
        " percentile25 = df3[col].quantile(0.25)\n",
        " percentile75 = df3[col].quantile(0.75)\n",
        " print(\"percentile25\",percentile25)\n",
        " print(\"percentile75\",percentile75)\n",
        " iqr = percentile75 - percentile25\n",
        " upper_limit = percentile75 + 1.5 * iqr\n",
        " lower_limit = percentile25 - 1.5 * iqr\n",
        " print(\"Upper limit\",upper_limit)\n",
        " print(\"Lower limit\",lower_limit)\n",
        " df3[col] = np.where(df3[col]>upper_limit, upper_limit ,np.where(df3[col]<lower_limit,lower_limit,df3[col]))\n",
        " return df3[df3[col] > upper_limit]\n",
        " \n"
      ],
      "metadata": {
        "id": "yepiJ8Ye_QNP"
      },
      "execution_count": 126,
      "outputs": []
    },
    {
      "cell_type": "code",
      "source": [
        "def create_comparison_plot(data_df,df3,column):\n",
        " # Comparing\n",
        " plt.figure(figsize=(16,8))\n",
        " plt.subplot(2,2,1)\n",
        " sns.distplot(data_df[column])\n",
        " plt.subplot(2,2,2)\n",
        " sns.boxplot(data_df[column])\n",
        " plt.subplot(2,2,3)\n",
        " sns.distplot(df3[column])\n",
        " plt.subplot(2,2,4)\n",
        " sns.boxplot(df3[column])\n",
        " plt.show()"
      ],
      "metadata": {
        "id": "4IdeULvs_Yj7"
      },
      "execution_count": 127,
      "outputs": []
    },
    {
      "cell_type": "code",
      "source": [
        "remove_outliers_IQR('Value')"
      ],
      "metadata": {
        "id": "vtb042wL_dxq",
        "colab": {
          "base_uri": "https://localhost:8080/",
          "height": 118
        },
        "outputId": "aa33fd6d-f497-488b-e686-0432036238ad"
      },
      "execution_count": 128,
      "outputs": [
        {
          "output_type": "stream",
          "name": "stdout",
          "text": [
            "percentile25 9247.75\n",
            "percentile75 179681.0\n",
            "Upper limit 435330.875\n",
            "Lower limit -246402.125\n"
          ]
        },
        {
          "output_type": "execute_result",
          "data": {
            "text/plain": [
              "Empty DataFrame\n",
              "Columns: [Year, Month, Segment, Region, KPI, Value Type, Value]\n",
              "Index: []"
            ],
            "text/html": [
              "\n",
              "  <div id=\"df-b75cad8f-3d9d-4534-a497-57a9c0bc5cc4\">\n",
              "    <div class=\"colab-df-container\">\n",
              "      <div>\n",
              "<style scoped>\n",
              "    .dataframe tbody tr th:only-of-type {\n",
              "        vertical-align: middle;\n",
              "    }\n",
              "\n",
              "    .dataframe tbody tr th {\n",
              "        vertical-align: top;\n",
              "    }\n",
              "\n",
              "    .dataframe thead th {\n",
              "        text-align: right;\n",
              "    }\n",
              "</style>\n",
              "<table border=\"1\" class=\"dataframe\">\n",
              "  <thead>\n",
              "    <tr style=\"text-align: right;\">\n",
              "      <th></th>\n",
              "      <th>Year</th>\n",
              "      <th>Month</th>\n",
              "      <th>Segment</th>\n",
              "      <th>Region</th>\n",
              "      <th>KPI</th>\n",
              "      <th>Value Type</th>\n",
              "      <th>Value</th>\n",
              "    </tr>\n",
              "  </thead>\n",
              "  <tbody>\n",
              "  </tbody>\n",
              "</table>\n",
              "</div>\n",
              "      <button class=\"colab-df-convert\" onclick=\"convertToInteractive('df-b75cad8f-3d9d-4534-a497-57a9c0bc5cc4')\"\n",
              "              title=\"Convert this dataframe to an interactive table.\"\n",
              "              style=\"display:none;\">\n",
              "        \n",
              "  <svg xmlns=\"http://www.w3.org/2000/svg\" height=\"24px\"viewBox=\"0 0 24 24\"\n",
              "       width=\"24px\">\n",
              "    <path d=\"M0 0h24v24H0V0z\" fill=\"none\"/>\n",
              "    <path d=\"M18.56 5.44l.94 2.06.94-2.06 2.06-.94-2.06-.94-.94-2.06-.94 2.06-2.06.94zm-11 1L8.5 8.5l.94-2.06 2.06-.94-2.06-.94L8.5 2.5l-.94 2.06-2.06.94zm10 10l.94 2.06.94-2.06 2.06-.94-2.06-.94-.94-2.06-.94 2.06-2.06.94z\"/><path d=\"M17.41 7.96l-1.37-1.37c-.4-.4-.92-.59-1.43-.59-.52 0-1.04.2-1.43.59L10.3 9.45l-7.72 7.72c-.78.78-.78 2.05 0 2.83L4 21.41c.39.39.9.59 1.41.59.51 0 1.02-.2 1.41-.59l7.78-7.78 2.81-2.81c.8-.78.8-2.07 0-2.86zM5.41 20L4 18.59l7.72-7.72 1.47 1.35L5.41 20z\"/>\n",
              "  </svg>\n",
              "      </button>\n",
              "      \n",
              "  <style>\n",
              "    .colab-df-container {\n",
              "      display:flex;\n",
              "      flex-wrap:wrap;\n",
              "      gap: 12px;\n",
              "    }\n",
              "\n",
              "    .colab-df-convert {\n",
              "      background-color: #E8F0FE;\n",
              "      border: none;\n",
              "      border-radius: 50%;\n",
              "      cursor: pointer;\n",
              "      display: none;\n",
              "      fill: #1967D2;\n",
              "      height: 32px;\n",
              "      padding: 0 0 0 0;\n",
              "      width: 32px;\n",
              "    }\n",
              "\n",
              "    .colab-df-convert:hover {\n",
              "      background-color: #E2EBFA;\n",
              "      box-shadow: 0px 1px 2px rgba(60, 64, 67, 0.3), 0px 1px 3px 1px rgba(60, 64, 67, 0.15);\n",
              "      fill: #174EA6;\n",
              "    }\n",
              "\n",
              "    [theme=dark] .colab-df-convert {\n",
              "      background-color: #3B4455;\n",
              "      fill: #D2E3FC;\n",
              "    }\n",
              "\n",
              "    [theme=dark] .colab-df-convert:hover {\n",
              "      background-color: #434B5C;\n",
              "      box-shadow: 0px 1px 3px 1px rgba(0, 0, 0, 0.15);\n",
              "      filter: drop-shadow(0px 1px 2px rgba(0, 0, 0, 0.3));\n",
              "      fill: #FFFFFF;\n",
              "    }\n",
              "  </style>\n",
              "\n",
              "      <script>\n",
              "        const buttonEl =\n",
              "          document.querySelector('#df-b75cad8f-3d9d-4534-a497-57a9c0bc5cc4 button.colab-df-convert');\n",
              "        buttonEl.style.display =\n",
              "          google.colab.kernel.accessAllowed ? 'block' : 'none';\n",
              "\n",
              "        async function convertToInteractive(key) {\n",
              "          const element = document.querySelector('#df-b75cad8f-3d9d-4534-a497-57a9c0bc5cc4');\n",
              "          const dataTable =\n",
              "            await google.colab.kernel.invokeFunction('convertToInteractive',\n",
              "                                                     [key], {});\n",
              "          if (!dataTable) return;\n",
              "\n",
              "          const docLinkHtml = 'Like what you see? Visit the ' +\n",
              "            '<a target=\"_blank\" href=https://colab.research.google.com/notebooks/data_table.ipynb>data table notebook</a>'\n",
              "            + ' to learn more about interactive tables.';\n",
              "          element.innerHTML = '';\n",
              "          dataTable['output_type'] = 'display_data';\n",
              "          await google.colab.output.renderOutput(dataTable, element);\n",
              "          const docLink = document.createElement('div');\n",
              "          docLink.innerHTML = docLinkHtml;\n",
              "          element.appendChild(docLink);\n",
              "        }\n",
              "      </script>\n",
              "    </div>\n",
              "  </div>\n",
              "  "
            ]
          },
          "metadata": {},
          "execution_count": 128
        }
      ]
    },
    {
      "cell_type": "code",
      "source": [
        "create_comparison_plot(df,df3,\"Value\")"
      ],
      "metadata": {
        "id": "wiMCV-SM_iVl",
        "colab": {
          "base_uri": "https://localhost:8080/",
          "height": 692
        },
        "outputId": "fda20201-2626-4783-e4bc-39d17453fd57"
      },
      "execution_count": 129,
      "outputs": [
        {
          "output_type": "display_data",
          "data": {
            "text/plain": [
              "<Figure size 1600x800 with 4 Axes>"
            ],
            "image/png": "[encoded data removed]"
          },
          "metadata": {}
        }
      ]
    },
    {
      "cell_type": "code",
      "source": [
        "plt.figure(figsize=(22,18))\n",
        "for i,col in enumerate(num):\n",
        " plt.subplot(4,7,i+1)\n",
        " sns.boxplot(df3[col])"
      ],
      "metadata": {
        "id": "OpuS90MN_pGJ",
        "colab": {
          "base_uri": "https://localhost:8080/",
          "height": 362
        },
        "outputId": "dce08373-3c18-4412-cf44-5cc9ff77abc8"
      },
      "execution_count": 130,
      "outputs": [
        {
          "output_type": "display_data",
          "data": {
            "text/plain": [
              "<Figure size 2200x1800 with 1 Axes>"
            ],
            "image/png": "[encoded data removed]"
          },
          "metadata": {}
        }
      ]
    },
    {
      "cell_type": "code",
      "source": [
        "data = df.copy()"
      ],
      "metadata": {
        "id": "hKRBGzjBAI7a"
      },
      "execution_count": 131,
      "outputs": []
    },
    {
      "cell_type": "code",
      "source": [
        "y = df.to_csv('data.csv')"
      ],
      "metadata": {
        "id": "zmygpJAjhmRm"
      },
      "execution_count": 132,
      "outputs": []
    },
    {
      "cell_type": "code",
      "source": [
        "import pandas as pd\n",
        "import numpy as np\n",
        "import matplotlib.pyplot as plt\n",
        "from datetime import datetime, timedelta\n",
        "\n",
        "def predict_future(region='India', segment='Customers'):\n",
        "    # read the data\n",
        "    df = pd.read_csv('data.csv')\n",
        "    \n",
        "    # create a new column with the date format\n",
        "    df['date'] = pd.to_datetime(df['Year'].astype(str) + '-' + df['Month'].astype(str) + '-01')\n",
        "    \n",
        "    # filter by region and segment\n",
        "    df = df[(df['Region'] == region) & (df['Segment'] == segment)]\n",
        "    \n",
        "    # filter by Level 5 visitors\n",
        "    df_lv5 = df[df['KPI'] == 'Lv5_Visitors']\n",
        "    \n",
        "    # select the columns we need\n",
        "    df_lv5 = df_lv5[['date', 'Value']]\n",
        "    \n",
        "    # set the date as the index\n",
        "    df_lv5.set_index('date', inplace=True)\n",
        "    \n",
        "    # resample to monthly frequency\n",
        "    df_lv5_monthly = df_lv5.resample('M').sum()\n",
        "    \n",
        "    # get the last date and add 1 month\n",
        "    last_date = df_lv5_monthly.index[-1]\n",
        "    next_date = last_date + timedelta(days=31)\n",
        "    \n",
        "    # create a date range for the next 6 months\n",
        "    dates = pd.date_range(start=next_date, periods=6, freq='M')\n",
        "    \n",
        "    # create a DataFrame with the dates\n",
        "    df_future = pd.DataFrame({'date': dates})\n",
        "    \n",
        "    # set the date as the index\n",
        "    df_future.set_index('date', inplace=True)\n",
        "    \n",
        "    # make predictions using the mean of the last 12 months\n",
        "    last_12_months = df_lv5_monthly.iloc[-12:]\n",
        "    mean = last_12_months['Value'].mean()\n",
        "    predictions = np.full((6,), mean)\n",
        "    \n",
        "    # add the predictions to the DataFrame\n",
        "    df_future['Value'] = predictions\n",
        "    \n",
        "    # plot the actual and predicted values\n",
        "    plt.plot(df_lv5_monthly.index, df_lv5_monthly['Value'], label='Actual')\n",
        "    plt.plot(df_future.index, df_future['Value'], label='Predicted')\n",
        "    plt.legend()\n",
        "    plt.show()\n",
        "    \n",
        "    return df_future\n"
      ],
      "metadata": {
        "id": "MR1nc-q5gmLu"
      },
      "execution_count": 133,
      "outputs": []
    },
    {
      "cell_type": "code",
      "source": [
        "predict_future('India', 'Customers')"
      ],
      "metadata": {
        "colab": {
          "base_uri": "https://localhost:8080/",
          "height": 682
        },
        "id": "3QPEeHprgmHo",
        "outputId": "84d2a10f-df73-40c3-8c78-36422faf8fa7"
      },
      "execution_count": 134,
      "outputs": [
        {
          "output_type": "display_data",
          "data": {
            "text/plain": [
              "<Figure size 640x480 with 1 Axes>"
            ],
            "image/png": "[encoded data removed]"
          },
          "metadata": {}
        },
        {
          "output_type": "execute_result",
          "data": {
            "text/plain": [
              "                   Value\n",
              "date                    \n",
              "2023-01-31  15595.833333\n",
              "2023-02-28  15595.833333\n",
              "2023-03-31  15595.833333\n",
              "2023-04-30  15595.833333\n",
              "2023-05-31  15595.833333\n",
              "2023-06-30  15595.833333"
            ],
            "text/html": [
              "\n",
              "  <div id=\"df-a7541fa1-d4e6-456a-b915-596e543a178f\">\n",
              "    <div class=\"colab-df-container\">\n",
              "      <div>\n",
              "<style scoped>\n",
              "    .dataframe tbody tr th:only-of-type {\n",
              "        vertical-align: middle;\n",
              "    }\n",
              "\n",
              "    .dataframe tbody tr th {\n",
              "        vertical-align: top;\n",
              "    }\n",
              "\n",
              "    .dataframe thead th {\n",
              "        text-align: right;\n",
              "    }\n",
              "</style>\n",
              "<table border=\"1\" class=\"dataframe\">\n",
              "  <thead>\n",
              "    <tr style=\"text-align: right;\">\n",
              "      <th></th>\n",
              "      <th>Value</th>\n",
              "    </tr>\n",
              "    <tr>\n",
              "      <th>date</th>\n",
              "      <th></th>\n",
              "    </tr>\n",
              "  </thead>\n",
              "  <tbody>\n",
              "    <tr>\n",
              "      <th>2023-01-31</th>\n",
              "      <td>15595.833333</td>\n",
              "    </tr>\n",
              "    <tr>\n",
              "      <th>2023-02-28</th>\n",
              "      <td>15595.833333</td>\n",
              "    </tr>\n",
              "    <tr>\n",
              "      <th>2023-03-31</th>\n",
              "      <td>15595.833333</td>\n",
              "    </tr>\n",
              "    <tr>\n",
              "      <th>2023-04-30</th>\n",
              "      <td>15595.833333</td>\n",
              "    </tr>\n",
              "    <tr>\n",
              "      <th>2023-05-31</th>\n",
              "      <td>15595.833333</td>\n",
              "    </tr>\n",
              "    <tr>\n",
              "      <th>2023-06-30</th>\n",
              "      <td>15595.833333</td>\n",
              "    </tr>\n",
              "  </tbody>\n",
              "</table>\n",
              "</div>\n",
              "      <button class=\"colab-df-convert\" onclick=\"convertToInteractive('df-a7541fa1-d4e6-456a-b915-596e543a178f')\"\n",
              "              title=\"Convert this dataframe to an interactive table.\"\n",
              "              style=\"display:none;\">\n",
              "        \n",
              "  <svg xmlns=\"http://www.w3.org/2000/svg\" height=\"24px\"viewBox=\"0 0 24 24\"\n",
              "       width=\"24px\">\n",
              "    <path d=\"M0 0h24v24H0V0z\" fill=\"none\"/>\n",
              "    <path d=\"M18.56 5.44l.94 2.06.94-2.06 2.06-.94-2.06-.94-.94-2.06-.94 2.06-2.06.94zm-11 1L8.5 8.5l.94-2.06 2.06-.94-2.06-.94L8.5 2.5l-.94 2.06-2.06.94zm10 10l.94 2.06.94-2.06 2.06-.94-2.06-.94-.94-2.06-.94 2.06-2.06.94z\"/><path d=\"M17.41 7.96l-1.37-1.37c-.4-.4-.92-.59-1.43-.59-.52 0-1.04.2-1.43.59L10.3 9.45l-7.72 7.72c-.78.78-.78 2.05 0 2.83L4 21.41c.39.39.9.59 1.41.59.51 0 1.02-.2 1.41-.59l7.78-7.78 2.81-2.81c.8-.78.8-2.07 0-2.86zM5.41 20L4 18.59l7.72-7.72 1.47 1.35L5.41 20z\"/>\n",
              "  </svg>\n",
              "      </button>\n",
              "      \n",
              "  <style>\n",
              "    .colab-df-container {\n",
              "      display:flex;\n",
              "      flex-wrap:wrap;\n",
              "      gap: 12px;\n",
              "    }\n",
              "\n",
              "    .colab-df-convert {\n",
              "      background-color: #E8F0FE;\n",
              "      border: none;\n",
              "      border-radius: 50%;\n",
              "      cursor: pointer;\n",
              "      display: none;\n",
              "      fill: #1967D2;\n",
              "      height: 32px;\n",
              "      padding: 0 0 0 0;\n",
              "      width: 32px;\n",
              "    }\n",
              "\n",
              "    .colab-df-convert:hover {\n",
              "      background-color: #E2EBFA;\n",
              "      box-shadow: 0px 1px 2px rgba(60, 64, 67, 0.3), 0px 1px 3px 1px rgba(60, 64, 67, 0.15);\n",
              "      fill: #174EA6;\n",
              "    }\n",
              "\n",
              "    [theme=dark] .colab-df-convert {\n",
              "      background-color: #3B4455;\n",
              "      fill: #D2E3FC;\n",
              "    }\n",
              "\n",
              "    [theme=dark] .colab-df-convert:hover {\n",
              "      background-color: #434B5C;\n",
              "      box-shadow: 0px 1px 3px 1px rgba(0, 0, 0, 0.15);\n",
              "      filter: drop-shadow(0px 1px 2px rgba(0, 0, 0, 0.3));\n",
              "      fill: #FFFFFF;\n",
              "    }\n",
              "  </style>\n",
              "\n",
              "      <script>\n",
              "        const buttonEl =\n",
              "          document.querySelector('#df-a7541fa1-d4e6-456a-b915-596e543a178f button.colab-df-convert');\n",
              "        buttonEl.style.display =\n",
              "          google.colab.kernel.accessAllowed ? 'block' : 'none';\n",
              "\n",
              "        async function convertToInteractive(key) {\n",
              "          const element = document.querySelector('#df-a7541fa1-d4e6-456a-b915-596e543a178f');\n",
              "          const dataTable =\n",
              "            await google.colab.kernel.invokeFunction('convertToInteractive',\n",
              "                                                     [key], {});\n",
              "          if (!dataTable) return;\n",
              "\n",
              "          const docLinkHtml = 'Like what you see? Visit the ' +\n",
              "            '<a target=\"_blank\" href=https://colab.research.google.com/notebooks/data_table.ipynb>data table notebook</a>'\n",
              "            + ' to learn more about interactive tables.';\n",
              "          element.innerHTML = '';\n",
              "          dataTable['output_type'] = 'display_data';\n",
              "          await google.colab.output.renderOutput(dataTable, element);\n",
              "          const docLink = document.createElement('div');\n",
              "          docLink.innerHTML = docLinkHtml;\n",
              "          element.appendChild(docLink);\n",
              "        }\n",
              "      </script>\n",
              "    </div>\n",
              "  </div>\n",
              "  "
            ]
          },
          "metadata": {},
          "execution_count": 134
        }
      ]
    },
    {
      "cell_type": "code",
      "source": [],
      "metadata": {
        "id": "i2wCEf66gmFm"
      },
      "execution_count": 134,
      "outputs": []
    },
    {
      "cell_type": "code",
      "source": [],
      "metadata": {
        "id": "DQtXiuewm0ft"
      },
      "execution_count": 134,
      "outputs": []
    }
  ]
}